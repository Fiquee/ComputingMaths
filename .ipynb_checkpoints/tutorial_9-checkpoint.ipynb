{
 "cells": [
  {
   "cell_type": "code",
   "execution_count": null,
   "metadata": {},
   "outputs": [],
   "source": [
    "import numpy as np\n",
    "import matplotlib.pyplot as plt\n",
    "import math\n",
    "import statistics"
   ]
  },
  {
   "cell_type": "markdown",
   "metadata": {},
   "source": [
    "# Question 1"
   ]
  },
  {
   "cell_type": "markdown",
   "metadata": {},
   "source": [
    "#### Consider three data sets.\n",
    "#### (1) 19, 24, 12, 19, 18, 24, 8, 5, 9, 20, 13, 11, 1, 12, 11, 10, 22, 21, 7, 16, 15, 15, 26, 16, 1,\n",
    "#### 13, 21, 21, 20, 19\n",
    "#### (2) 17, 24, 21, 22, 26, 22, 19, 21, 23, 11, 19, 14, 23, 25, 26, 15, 17, 26, 21, 18, 19, 21, 24,\n",
    "#### 18, 16, 20, 21, 20, 23, 33\n",
    "#### (3) 56, 52, 13, 34, 33, 18, 44, 41, 48, 75, 24, 19, 35, 27, 46, 62, 71, 24, 66, 94, 40, 18, 15,\n",
    "#### 39, 53, 23, 41, 78, 15, 35\n",
    "#### (a) For each data set, draw a histogram using python and determine whether the distribution is right skewed, left-skewed, or symmetric.\n",
    "#### (b) Compute sample means and sample medians by hand and python. Do they support your findings about skewness and symmetry? How?"
   ]
  },
  {
   "cell_type": "code",
   "execution_count": null,
   "metadata": {},
   "outputs": [],
   "source": [
    "data_1 = np.array([19, 24, 12, 19, 18, 24, 8, 5, 9, 20, 13, 11, 1, 12, 11, 10, 22, 21, 7, 16, 15, 15, 26, 16, 1, 13, 21, 21, 20, 19])\n",
    "\n",
    "data_2 = np.array([17, 24, 21, 22, 26, 22, 19, 21, 23, 11, 19, 14, 23, 25, 26, 15, 17, 26, 21, 18, 19, 21, 24, 18, 16, 20, 21, 20, 23, 33])\n",
    "\n",
    "data_3 = np.array([56, 52, 13, 34, 33, 18, 44, 41, 48, 75, 24, 19, 35, 27, 46, 62, 71, 24, 66, 94, 40, 18, 15, 39, 53, 23, 41, 78, 15, 35])\n",
    "\n",
    "fig,axs = plt.subplots(1,3,sharey=True)\n",
    "\n",
    "axs[0].hist(data_1)\n",
    "axs[1].hist(data_2)\n",
    "axs[2].hist(data_3)\n",
    "\n",
    "\n",
    "#graph1 = left-skewed\n",
    "#graph2 = semetric\n",
    "#graph3 = right-skewed"
   ]
  },
  {
   "cell_type": "code",
   "execution_count": null,
   "metadata": {},
   "outputs": [],
   "source": [
    "mean_1 = np.mean(data_1)\n",
    "mean_2 = np.mean(data_2)\n",
    "mean_3 = np.mean(data_3)\n",
    "print(\"Mean for data set 1 = \",mean_1)\n",
    "print(\"Mean for data set 2 = \",mean_2)\n",
    "print(\"Mean for data set 3 = \",mean_3)"
   ]
  },
  {
   "cell_type": "code",
   "execution_count": null,
   "metadata": {},
   "outputs": [],
   "source": [
    "median_1 = np.median(data_1)\n",
    "median_2 = np.median(data_2)\n",
    "median_3 = np.median(data_3)\n",
    "\n",
    "print(\"Median for data set 1 = \",median_1)\n",
    "print(\"Median for data set 2 = \",median_2)\n",
    "print(\"Median for data set 3 = \",median_3)"
   ]
  },
  {
   "cell_type": "markdown",
   "metadata": {},
   "source": [
    "# Question 2"
   ]
  },
  {
   "cell_type": "markdown",
   "metadata": {},
   "source": [
    "#### Solve this question using python. The following data set represents the number of new computer accounts registered during ten consecutive days.\n",
    "#### 43, 37, 50, 51, 58, 105, 52, 45, 45, 10.\n",
    "#### (a) Compute the mean, median, quartiles, and standard deviation.\n",
    "#### (b) Check for outliers using the 1.5(IQR) rule.\n",
    "#### (c) Delete the detected outliers and compute the mean, median, quartiles, and standard deviation again.\n",
    "#### (d) Make a conclusion about the effect of outliers on basic descriptive statistics."
   ]
  },
  {
   "cell_type": "code",
   "execution_count": null,
   "metadata": {},
   "outputs": [],
   "source": [
    "data_set = np.array([43, 37, 50, 51, 58, 105, 52, 45, 45, 10])\n",
    "mean = round(np.mean(data_set),2)\n",
    "median = round(np.median(data_set),2)\n",
    "sd = round(np.std(data_set),2)\n",
    "firstquartile = np.percentile(data_set,25)\n",
    "thirdquartile  = np.percentile(data_set,75)\n",
    "\n",
    "print(\"mean =\",mean)\n",
    "print(\"median =\",median)\n",
    "print(\"standard deviation =\",sd)\n",
    "print(\"first quartile =\",firstquartile)\n",
    "print(\"third quartile =\",thirdquartile)"
   ]
  },
  {
   "cell_type": "code",
   "execution_count": null,
   "metadata": {},
   "outputs": [],
   "source": []
  },
  {
   "cell_type": "code",
   "execution_count": null,
   "metadata": {},
   "outputs": [],
   "source": []
  },
  {
   "cell_type": "code",
   "execution_count": null,
   "metadata": {},
   "outputs": [],
   "source": []
  }
 ],
 "metadata": {
  "kernelspec": {
   "display_name": "Python 3",
   "language": "python",
   "name": "python3"
  },
  "language_info": {
   "codemirror_mode": {
    "name": "ipython",
    "version": 3
   },
   "file_extension": ".py",
   "mimetype": "text/x-python",
   "name": "python",
   "nbconvert_exporter": "python",
   "pygments_lexer": "ipython3",
   "version": "3.8.6"
  }
 },
 "nbformat": 4,
 "nbformat_minor": 2
}
