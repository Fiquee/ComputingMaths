{
 "metadata": {
  "language_info": {
   "codemirror_mode": {
    "name": "ipython",
    "version": 3
   },
   "file_extension": ".py",
   "mimetype": "text/x-python",
   "name": "python",
   "nbconvert_exporter": "python",
   "pygments_lexer": "ipython3",
   "version": "3.7.4-final"
  },
  "orig_nbformat": 2,
  "kernelspec": {
   "name": "python374jvsc74a57bd0c3cd497d128db5051ffe775c6711d9938ad6bf3bc365cc3a12731ecface7a545",
   "display_name": "Python 3.7.4 32-bit"
  }
 },
 "nbformat": 4,
 "nbformat_minor": 2,
 "cells": [
  {
   "source": [
    "# Computing Mathematics II - Tutorial 6"
   ],
   "cell_type": "markdown",
   "metadata": {}
  },
  {
   "cell_type": "code",
   "execution_count": 1,
   "metadata": {},
   "outputs": [],
   "source": [
    "import numpy as np"
   ]
  },
  {
   "source": [
    "## Question 1\n",
    "<img src=\"Questions\\Q1.jpg\">"
   ],
   "cell_type": "markdown",
   "metadata": {}
  },
  {
   "cell_type": "code",
   "execution_count": 8,
   "metadata": {},
   "outputs": [
    {
     "output_type": "stream",
     "name": "stdout",
     "text": [
      "[ 18 -21 -13]\n"
     ]
    }
   ],
   "source": [
    "u = np.array([2,-7,1])\n",
    "v = np.array([-3,0,4])\n",
    "w = np.array([0,5,-8])\n",
    "\n",
    "ans = 3*u - 4*v\n",
    "print(ans)"
   ]
  },
  {
   "cell_type": "code",
   "execution_count": 9,
   "metadata": {},
   "outputs": [
    {
     "output_type": "stream",
     "name": "stdout",
     "text": [
      "[ -5 -39  54]\n"
     ]
    }
   ],
   "source": [
    "ans = 2*u + 3*v - 5*w\n",
    "print(ans)"
   ]
  },
  {
   "source": [
    "## Question 4\n",
    "<img src=\"Questions\\Q4.jpg\">"
   ],
   "cell_type": "markdown",
   "metadata": {}
  },
  {
   "cell_type": "code",
   "execution_count": 10,
   "metadata": {},
   "outputs": [
    {
     "output_type": "stream",
     "name": "stdout",
     "text": [
      "a \n [[ 4  6 -2]\n [ 4 -3 -5]]\nc \n [[ 5  2]\n [ 6 -6]\n [-1 -3]]\ne \n [[ 1.  2.]\n [ 2.  0.]\n [-1.  1.]]\nf \n [[ -5  10 -15]\n [ 30  30  15]]\ng \n [[  9  22]\n [ 20   3]\n [-11   8]]\nh \n [[ 2  2  0]\n [ 0 -3 -7]]\ni \n [[  0   0   0]\n [  0   0 -20]]\n"
     ]
    }
   ],
   "source": [
    "A = np.array([[1,4,-3],[6,3,0]])\n",
    "B = np.array([[3,2,1],[-2,-6,-5]])\n",
    "C = np.array([[2,4],[4,0],[-2,2]])\n",
    "alpha = 4\n",
    "beta = 0.5\n",
    "\n",
    "ans = {\n",
    "    \"a\":A + B,\n",
    "    \"c\":B.transpose() + C,\n",
    "    \"e\":beta*C,\n",
    "    \"f\":4*A - 3*B,\n",
    "    \"g\":A.transpose() + alpha*C,\n",
    "    \"h\":A+B-C.transpose(),\n",
    "    \"i\":4*A+2*B-5*C.transpose()\n",
    "}\n",
    "\n",
    "for key in ans:\n",
    "    print(key,\"\\n\",ans[key])\n"
   ]
  },
  {
   "source": [
    "## Question 5\n",
    "<img src=\"Questions/Q5.jpg\">"
   ],
   "cell_type": "markdown",
   "metadata": {}
  },
  {
   "cell_type": "code",
   "execution_count": 11,
   "metadata": {},
   "outputs": [
    {
     "output_type": "stream",
     "name": "stdout",
     "text": [
      "det(A): -16.0\ndet(B): 70.0\n"
     ]
    }
   ],
   "source": [
    "A = np.array([[1,3],[6,2]])\n",
    "B = np.array([[-2,3,-2],[-4,-2,1],[2,4,2]])\n",
    "print(\"det(A):\",round(np.linalg.det(A)))\n",
    "print(\"det(B):\",round(np.linalg.det(B)))"
   ]
  },
  {
   "source": [
    "## Question 8\n",
    "<img src=\"Questions/Q8.jpg\">"
   ],
   "cell_type": "markdown",
   "metadata": {}
  },
  {
   "source": [
    "A = np.array([[1,0,1],[1,1,1],[2,-1,1]])\n",
    "A_inv = np.linalg.inv(A)\n",
    "A_inv"
   ],
   "cell_type": "code",
   "metadata": {},
   "execution_count": 5,
   "outputs": [
    {
     "output_type": "execute_result",
     "data": {
      "text/plain": [
       "array([[-2.,  1.,  1.],\n",
       "       [-1.,  1.,  0.],\n",
       "       [ 3., -1., -1.]])"
      ]
     },
     "metadata": {},
     "execution_count": 5
    }
   ]
  },
  {
   "cell_type": "code",
   "execution_count": 7,
   "metadata": {},
   "outputs": [
    {
     "output_type": "execute_result",
     "data": {
      "text/plain": [
       "array([[ 0. , -0.5,  0.5],\n",
       "       [ 1. , -0.5, -0.5],\n",
       "       [-2. ,  2. ,  1. ]])"
      ]
     },
     "metadata": {},
     "execution_count": 7
    }
   ],
   "source": [
    "B = np.array([[1,3,1],[0,2,1],[2,2,1]])\n",
    "B_inv = np.linalg.inv(B)\n",
    "B_inv"
   ]
  },
  {
   "source": [
    "## Question 9\n",
    "<img src=\"Questions/Q9.jpg\">\n"
   ],
   "cell_type": "markdown",
   "metadata": {}
  },
  {
   "cell_type": "code",
   "execution_count": 14,
   "metadata": {},
   "outputs": [
    {
     "output_type": "stream",
     "name": "stdout",
     "text": [
      "X1 = 46.0\nX2 = 79.0\nX3 = 19.0\n"
     ]
    }
   ],
   "source": [
    "A = np.array([[1,-1,2],[1,0,-2],[2,-1,-1]])\n",
    "Y = np.array([5,8,-6])\n",
    "X = np.linalg.inv(A).dot(Y)\n",
    "\n",
    "for i in range(1, len(X) + 1):\n",
    "    print(\"X{i} = {x}\".format(i=i,x=X[i-1]))"
   ]
  },
  {
   "source": [
    "## References\n",
    "1. NumPy for Vectors and Matrices\n",
    "-  https://www2.lawrence.edu/fast/GREGGJ/Python/numpy/numpyLA.html"
   ],
   "cell_type": "markdown",
   "metadata": {}
  }
 ]
}