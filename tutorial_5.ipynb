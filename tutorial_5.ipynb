{
 "metadata": {
  "language_info": {
   "codemirror_mode": {
    "name": "ipython",
    "version": 3
   },
   "file_extension": ".py",
   "mimetype": "text/x-python",
   "name": "python",
   "nbconvert_exporter": "python",
   "pygments_lexer": "ipython3",
   "version": "3.7.4-final"
  },
  "orig_nbformat": 2,
  "kernelspec": {
   "name": "python374jvsc74a57bd0c3cd497d128db5051ffe775c6711d9938ad6bf3bc365cc3a12731ecface7a545",
   "display_name": "Python 3.7.4 32-bit"
  }
 },
 "nbformat": 4,
 "nbformat_minor": 2,
 "cells": [
  {
   "source": [
    "# Computing Mathematics II - Tutorial 5"
   ],
   "cell_type": "markdown",
   "metadata": {}
  },
  {
   "cell_type": "code",
   "execution_count": 5,
   "metadata": {},
   "outputs": [],
   "source": [
    "import sympy\n",
    "import math"
   ]
  },
  {
   "source": [
    "## Question 1\r\n",
    "<img src = \"Questions\\Q1.jpg\">"
   ],
   "cell_type": "markdown",
   "metadata": {}
  },
  {
   "cell_type": "code",
   "execution_count": 7,
   "metadata": {},
   "outputs": [
    {
     "output_type": "execute_result",
     "data": {
      "text/plain": [
       "exp(x)*sin(x)"
      ],
      "text/latex": "$\\displaystyle e^{x} \\sin{\\left(x \\right)}$"
     },
     "metadata": {},
     "execution_count": 7
    }
   ],
   "source": [
    "x,y = sympy.symbols(\"x y\")\n",
    "expr = (sympy.E**x)*(sympy.sin(x))\n",
    "expr"
   ]
  },
  {
   "cell_type": "code",
   "execution_count": 9,
   "metadata": {},
   "outputs": [
    {
     "output_type": "execute_result",
     "data": {
      "text/plain": [
       "exp(x)*sin(x)/2 - exp(x)*cos(x)/2"
      ],
      "text/latex": "$\\displaystyle \\frac{e^{x} \\sin{\\left(x \\right)}}{2} - \\frac{e^{x} \\cos{\\left(x \\right)}}{2}$"
     },
     "metadata": {},
     "execution_count": 9
    }
   ],
   "source": [
    "sympy.integrate(expr,x)\n"
   ]
  },
  {
   "source": [
    "## Question 2\n",
    "<img src = \"Questions\\Q2.jpg\">"
   ],
   "cell_type": "markdown",
   "metadata": {}
  },
  {
   "cell_type": "code",
   "execution_count": 10,
   "metadata": {},
   "outputs": [
    {
     "output_type": "execute_result",
     "data": {
      "text/plain": [
       "x**2*y"
      ],
      "text/latex": "$\\displaystyle x^{2} y$"
     },
     "metadata": {},
     "execution_count": 10
    }
   ],
   "source": [
    "expr = x**2 * y\n",
    "expr"
   ]
  },
  {
   "cell_type": "code",
   "execution_count": 12,
   "metadata": {},
   "outputs": [
    {
     "output_type": "execute_result",
     "data": {
      "text/plain": [
       "27/2"
      ],
      "text/latex": "$\\displaystyle \\frac{27}{2}$"
     },
     "metadata": {},
     "execution_count": 12
    }
   ],
   "source": [
    "sympy.integrate(expr, (x,0,3),(y,1,2))"
   ]
  },
  {
   "source": [
    "## Question 3\n",
    "<img src = \"Questions\\Q3.jpg\">\n"
   ],
   "cell_type": "markdown",
   "metadata": {}
  },
  {
   "cell_type": "code",
   "execution_count": 17,
   "metadata": {},
   "outputs": [
    {
     "output_type": "execute_result",
     "data": {
      "text/plain": [
       "x"
      ],
      "text/latex": "$\\displaystyle x$"
     },
     "metadata": {},
     "execution_count": 17
    }
   ],
   "source": [
    "expr_1 = sympy.E ** x\n",
    "expr_2 = x"
   ]
  },
  {
   "cell_type": "code",
   "execution_count": 18,
   "metadata": {},
   "outputs": [
    {
     "output_type": "execute_result",
     "data": {
      "text/plain": [
       "-3/2 + E"
      ],
      "text/latex": "$\\displaystyle - \\frac{3}{2} + e$"
     },
     "metadata": {},
     "execution_count": 18
    }
   ],
   "source": [
    "sympy.integrate(expr_1, (x,0,1)) - sympy.integrate(expr_2,(x,0,1))"
   ]
  },
  {
   "source": [
    "## Question 4\n",
    "<img src = \"Questions\\Q4.jpg\">\n"
   ],
   "cell_type": "markdown",
   "metadata": {}
  },
  {
   "cell_type": "code",
   "execution_count": 11,
   "metadata": {},
   "outputs": [
    {
     "output_type": "execute_result",
     "data": {
      "text/plain": [
       "1/3"
      ],
      "text/latex": "$\\displaystyle \\frac{1}{3}$"
     },
     "metadata": {},
     "execution_count": 11
    }
   ],
   "source": [
    "expr_1 = 2*x - x**2\n",
    "expr_2 = x**2\n",
    "\n",
    "sympy.integrate(expr_1, (x,0,1)) - sympy.integrate(expr_2,(x,0,1))"
   ]
  }
 ]
}